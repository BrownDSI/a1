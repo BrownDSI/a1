{
 "cells": [
  {
   "cell_type": "markdown",
   "metadata": {},
   "source": [
    "## Lab 1b K-means\n",
    "In this lab, you will implement and use a k-means clustering algorithm by following a 3 step process.\n",
    "\n",
    "The next cell contains the main processing loop for k-means. Run this cell and finish implementing each of the functions that follow it."
   ]
  },
  {
   "cell_type": "code",
   "execution_count": null,
   "metadata": {
    "collapsed": true
   },
   "outputs": [],
   "source": [
    "from random import sample \n",
    "from math import sqrt\n",
    "\n",
    "def kmeans(data, K):\n",
    "    \"\"\"\n",
    "    Runs the K-means algorithm on n rows of data using K clusters.\n",
    "    Returns a matrix of K cluster centroids, one per row.\n",
    "    \"\"\"\n",
    "    # initialize cluster centers\n",
    "    centroids = init_centroids(K, data)\n",
    "    for i in range(NUM_ITERATIONS):\n",
    "        # assign data points to clusters\n",
    "        index = assign_step(data, centroids)\n",
    "        # update cluster centers\n",
    "        centroids = update_step(data, index, K)\n",
    "    return centroids"
   ]
  },
  {
   "cell_type": "markdown",
   "metadata": {},
   "source": [
    "### Step 1 and Step 2\n",
    "Review the code that we have provided, make notes on what needs to be done (Step 1), and then by complete the missing code sections (Step 2).\n",
    "\n",
    "Consider the required inputs and expected output for each functions, and answer the following:\n",
    "\n",
    "1. **What are dimensions and type of each argument?**\n",
    "1. **What the dimensions and type of the return value?**\n",
    "1. **Describe how the required calculations can be done in Python.**  \n",
    "\n",
    "Ask a TA to review your notes on this function if you are not sure about it.  Once you have a clear understanding of the function please fill in the code necessary to implement it.  We have provided some testing code to help ensure you have correctly implemented each function.  You are welcome to examine the testing code to help get a handle on how the function is supposed to work."
   ]
  },
  {
   "cell_type": "markdown",
   "metadata": {},
   "source": [
    "Here is an example of what your solutions for steps 1 and 2 should look like:"
   ]
  },
  {
   "cell_type": "code",
   "execution_count": null,
   "metadata": {},
   "outputs": [],
   "source": [
    "def distance(a, b):\n",
    "    \"\"\"Returns the distance between two vectors.\"\"\"\n",
    "    dist = 0\n",
    "    # \n",
    "    for i, j in zip(a, b):\n",
    "        dist += (i - j)**2\n",
    "    return sqrt(dist)\n",
    "\n",
    "# Testing code:\n",
    "d = distance([0,1],[1,0])\n",
    "print(d)\n",
    "assert abs(d-sqrt(2))<.001   "
   ]
  },
  {
   "cell_type": "markdown",
   "metadata": {},
   "source": [
    "#### Dimensions and type of each argument:\n",
    "a and b are both vectors (or lists) of numbers that are the same length, d\n",
    "\n",
    "#### Dimensions and type of each the value:\n",
    "returns the distance between a and b\n",
    "\n",
    "#### How can the required calculations can be done in Python:\n",
    "Use iteration over the elements of and b to compute d-dimensional [Euclideam distance](https://en.wikipedia.org/wiki/Euclidean_distance) between the vectors."
   ]
  },
  {
   "cell_type": "code",
   "execution_count": null,
   "metadata": {},
   "outputs": [],
   "source": [
    "def init_centroids(K, data):\n",
    "    \"\"\"\n",
    "    Selects K different random rows from data and returns them.  \n",
    "    data is a 2D array.                \n",
    "    \"\"\"\n",
    "    \n",
    "    \n",
    "    \n",
    "    return centroids\n",
    "\n",
    "# Testing code:\n",
    "data = [[1,0],[0,1],[1,1]] # Three 2-D points\n",
    "centroids = init_centroids(3,data)\n",
    "print('Our three centroids:', centroids)\n",
    "assert len(centroids)==3\n",
    "assert len(centroids[0])==2\n",
    "# Check K unique data points have been returned:\n",
    "assert [1,0] in centroids and [0,1] in centroids and [1,1] in centroids "
   ]
  },
  {
   "cell_type": "markdown",
   "metadata": {},
   "source": [
    "STEP 1 HERE\n",
    "##### Dimensions and type of each argument:\n",
    "##### Dimensions and type of the return value:\n",
    "##### How can the required calculations can be done in Python:\n",
    "\n",
    "hint: use ```random.sample```"
   ]
  },
  {
   "cell_type": "code",
   "execution_count": null,
   "metadata": {},
   "outputs": [],
   "source": [
    "def assign_step(data, centroids):\n",
    "    \"\"\"\n",
    "    Determines a centroid index for every row of the data.\n",
    "    Returns a vector of centroid indices, one for each row of the data.\n",
    "    \"\"\"\n",
    "    \n",
    "    n = len(data)  # number of data points\n",
    "    K = len(centroids) # number of cluster centroids\n",
    "    index = [0]*n # Pre-allocated array of indices\n",
    "    \n",
    "    \n",
    "    \n",
    "    return index\n",
    "\n",
    "data = [[0, 1.1], [1.2, 0], [.8, 0]]\n",
    "centroids = [[1,0],[0,1]]\n",
    "index = assign_step(data, centroids)\n",
    "print('The 3 data points belong to clusters', index, 'respectively')\n",
    "assert index == [1,0, 0]"
   ]
  },
  {
   "cell_type": "markdown",
   "metadata": {},
   "source": [
    "STEP 1 (cont.) HERE\n",
    "##### Dimensions and type of each argument:\n",
    "##### Dimensions and type of the return value:\n",
    "##### How can the required calculations can be done in Python: "
   ]
  },
  {
   "cell_type": "code",
   "execution_count": null,
   "metadata": {},
   "outputs": [],
   "source": [
    "def update_step(data, index, K):\n",
    "    \"\"\"\n",
    "    Computes the centroid for each cluster.  Uses k to make this\n",
    "    calculation efficient.\n",
    "    Returns a matrix of K centroids, one per row.\n",
    "    \"\"\"\n",
    "    \n",
    "            \n",
    "    \n",
    "    return centroids\n",
    "\n",
    "data = [[0, 1.1], [1.2, 0], [.8, 0]]\n",
    "index = [1,0,0]\n",
    "centroids_old = [[1,0],[0,1]]\n",
    "centroids_new = update_step(data, index, 2)\n",
    "print(centroids_new)\n",
    "assert centroids_new == [[1.0, 0], [0, 1.1]]"
   ]
  },
  {
   "cell_type": "markdown",
   "metadata": {},
   "source": [
    "STEP 1 HERE\n",
    "##### Dimensions and type of each argument:\n",
    "##### Dimensions and type of the return value:\n",
    "##### How can the required calculations can be done in Python:  "
   ]
  },
  {
   "cell_type": "markdown",
   "metadata": {},
   "source": [
    "### Step 3 Try out your K-means solution\n",
    "Run the following code to try out your k-means solution on some synthetic data.  The data points are blue points and the final centroids are indicated by red x's."
   ]
  },
  {
   "cell_type": "code",
   "execution_count": null,
   "metadata": {},
   "outputs": [],
   "source": [
    "%matplotlib inline\n",
    "import numpy as np\n",
    "import matplotlib.pyplot as plt\n",
    "\n",
    "mu1 = 1\n",
    "sigma = .04\n",
    "N = 100\n",
    "\n",
    "c1 = np.random.multivariate_normal([mu1,0], [[sigma, 0],[0, sigma]], N)\n",
    "c2 = np.random.multivariate_normal([0,mu1], [[sigma, 0],[0, sigma]], N)\n",
    "c3 = np.random.multivariate_normal([mu1,mu1], [[sigma, 0],[0, sigma]], N)\n",
    "sd = np.vstack((c1,c2,c3))\n",
    "plt.plot(sd[:, 0], sd[:, 1], '.')\n",
    "\n",
    "NUM_ITERATIONS = 25\n",
    "centroids = kmeans(sd, 3)\n",
    "centroids = np.array(centroids)\n",
    "plt.plot(centroids[:, 0], centroids[:, 1], 'rx')"
   ]
  },
  {
   "cell_type": "markdown",
   "metadata": {
    "collapsed": true
   },
   "source": [
    "#### Sanity Check:\n",
    "Your scatter plot should look similar to this one:\n",
    "    \n",
    "<img src=\"images/scatter.png\" width=\"500px\">\n",
    "    "
   ]
  },
  {
   "cell_type": "markdown",
   "metadata": {},
   "source": [
    "### Step 3 Profile your K-means code\n",
    "Once your k-means implementation code run the following to do line profiling on your solution to determine what parts of your code are taking the most time to execute:"
   ]
  },
  {
   "cell_type": "code",
   "execution_count": null,
   "metadata": {},
   "outputs": [],
   "source": [
    "NUM_ITERATIONS = 25\n",
    "\n",
    "import line_profiler\n",
    "l = line_profiler.LineProfiler()\n",
    "l.add_function(kmeans)\n",
    "l.run('kmeans(sd, 3)')\n",
    "l.print_stats()"
   ]
  },
  {
   "cell_type": "markdown",
   "metadata": {
    "collapsed": true
   },
   "source": [
    "#### Sanity Check\n",
    "When we run line profiling on our implementation we get the following:\n",
    "\n",
    "```\n",
    "Timer unit: 1e-06 s\n",
    "\n",
    "Total time: 0.153622 s\n",
    "File: <ipython-input-1-4668301c5461>\n",
    "Function: kmeans at line 4\n",
    "\n",
    "Line #      Hits         Time  Per Hit   % Time  Line Contents\n",
    "==============================================================\n",
    "     4                                           def kmeans(data, K):\n",
    "     5                                               '''\n",
    "     6                                               Runs the K-means algorithm on n rows of data using K clusters.\n",
    "     7                                               Returns a matrix of K cluster centroids, one per row.\n",
    "     8                                               '''\n",
    "     9                                               # initialize cluster centers\n",
    "    10         1          116    116.0      0.1      centroids = init_centroids(K, data)\n",
    "    11        26           29      1.1      0.0      for i in range(NUM_ITERATIONS):\n",
    "    12                                                   # assign data points to clusters\n",
    "    13        25       122180   4887.2     79.5          index = assign_step(data, centroids)\n",
    "    14                                                   # update cluster centers\n",
    "    15        25        31297   1251.9     20.4          centroids = update_step(data, index, K)\n",
    "    16         1            0      0.0      0.0      return centroids\n",
    "    ```"
   ]
  }
 ],
 "metadata": {
  "kernelspec": {
   "display_name": "Python 3",
   "language": "python",
   "name": "python3"
  },
  "language_info": {
   "codemirror_mode": {
    "name": "ipython",
    "version": 3
   },
   "file_extension": ".py",
   "mimetype": "text/x-python",
   "name": "python",
   "nbconvert_exporter": "python",
   "pygments_lexer": "ipython3",
   "version": "3.6.1"
  }
 },
 "nbformat": 4,
 "nbformat_minor": 1
}
