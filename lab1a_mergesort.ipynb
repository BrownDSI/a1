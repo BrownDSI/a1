{
 "cells": [
  {
   "cell_type": "markdown",
   "metadata": {},
   "source": [
    "## Lab 1a Merge Sort (continued)\n",
    "\n",
    "### Timing mergesort\n",
    "[time.time()](https://docs.python.org/3/library/time.html#time.time) gives us the number of seconds elapsed since a date called the [epoch](https://docs.python.org/3/library/time.html#epoch). We can use this to benchmark our code.\n",
    "Run the following code below to see an example of `time.time()` in action."
   ]
  },
  {
   "cell_type": "code",
   "execution_count": null,
   "metadata": {
    "collapsed": true
   },
   "outputs": [],
   "source": [
    "import time\n",
    "\n",
    "# Avoiding direct usage of numbers in our code helps us avoid bugs\n",
    "LIST_SIZE = 10000000\n",
    "\n",
    "# LIST APPEND\n",
    "start1 = time.time() # Get the start time in seconds\n",
    "lst1 = []\n",
    "for i in range(LIST_SIZE):\n",
    "    lst1.append(i)\n",
    "end1 = time.time() # Get the end time in seconds\n",
    "\n",
    "# LIST SET\n",
    "start2 = time.time()\n",
    "lst2 = [0] * LIST_SIZE # Create a list of size LIST_SIZE first\n",
    "for i in range(LIST_SIZE):\n",
    "    lst2[i] = i # We set the i-th index instead of appending\n",
    "end2 = time.time()\n",
    "\n",
    "# LIST COMPREHENSIONS\n",
    "start3 = time.time()\n",
    "lst3 = [i for i in range(LIST_SIZE)]\n",
    "end3 = time.time()\n",
    "\n",
    "print('Using List.append:', end1 - start1)\n",
    "print('Instantiating our list first:', end2 - start2)\n",
    "print('List comprehension black magic:', end3 - start3)"
   ]
  },
  {
   "cell_type": "markdown",
   "metadata": {},
   "source": [
    "**Task 2**: Implement the function `time_mergesort` below. `time_mergesort` maps an integer, `list_length`, to the amount of time it takes to sort a random list that length.\n",
    "\n",
    "Use [numpy.random.randint](https://docs.scipy.org/doc/numpy/reference/generated/numpy.random.randint.html) to generate a random sequence of the desired length."
   ]
  },
  {
   "cell_type": "code",
   "execution_count": null,
   "metadata": {
    "collapsed": true
   },
   "outputs": [],
   "source": [
    "import numpy as np\n",
    "\n",
    "# Example usage of numpy.random.randint\n",
    "my_array = np.random.randint(-100, 100, size=5)\n",
    "print(my_array)\n",
    "\n",
    "# Relative imports like this allow us to use code from other local files\n",
    "from algorithms.mergesort import merge_sort\n",
    "\n",
    "def time_mergesort(list_length):\n",
    "    \"\"\"YOUR DOCSTRING HERE\n",
    "    \"\"\"\n",
    "    \n"
   ]
  },
  {
   "attachments": {},
   "cell_type": "markdown",
   "metadata": {},
   "source": [
    "### Visualizing execution time\n",
    "\n",
    "**Task 3**: We used `pandas.DataFrame.plot` on the first day to create a couple charts. Generate a list of lengths with `time_mergesort`, convert the list to a DataFrame, and then plot it to create a chart like the one below.\n",
    "![image.png](images/line-plot.png)"
   ]
  },
  {
   "cell_type": "code",
   "execution_count": null,
   "metadata": {
    "collapsed": true
   },
   "outputs": [],
   "source": [
    "%matplotlib inline\n",
    ""
   ]
  },
  {
   "cell_type": "markdown",
   "metadata": {},
   "source": [
    "### Profiling Python\n",
    "With `time.time()`, we can use the elapsed time between two timestamps to compute the execution time of a program. However, what if we want to know how long it takes for each line of code to run?\n",
    "\n",
    "A <a href=\"https://en.wikipedia.org/wiki/Profiling_(computer_programming)#\">profiler</a> can show that to us. In Jupyter Notebook, we can use [line_profiler](http://mortada.net/easily-profile-python-code-in-jupyter.html).\n",
    "\n",
    "\n",
    "Run the following to install line_profiler with Anaconda:"
   ]
  },
  {
   "cell_type": "code",
   "execution_count": null,
   "metadata": {
    "collapsed": true
   },
   "outputs": [],
   "source": [
    "!conda install line_profiler"
   ]
  },
  {
   "cell_type": "markdown",
   "metadata": {
    "collapsed": true
   },
   "source": [
    "Run the following two cells see `line_profiler` in action."
   ]
  },
  {
   "cell_type": "code",
   "execution_count": null,
   "metadata": {
    "collapsed": true
   },
   "outputs": [],
   "source": [
    "import numpy as np\n",
    "\n",
    "# Example function\n",
    "def do_stuff(numbers):\n",
    "    s = sum(numbers)\n",
    "    l = [numbers[i]/43 for i in range(len(numbers))]\n",
    "    m = ['hello'+str(numbers[i]) for i in range(len(numbers))]\n",
    "\n",
    "numbers = [np.random.randint(1,100) for i in range(1000)]"
   ]
  },
  {
   "cell_type": "code",
   "execution_count": null,
   "metadata": {
    "collapsed": true
   },
   "outputs": [],
   "source": [
    "%load_ext line_profiler\n",
    "%lprun -f do_stuff do_stuff(numbers)"
   ]
  },
  {
   "cell_type": "markdown",
   "metadata": {},
   "source": [
    "You will use line profiler later on in the assignment to measure the performance of your $k$-means implementation."
   ]
  }
 ],
 "metadata": {
  "kernelspec": {
   "display_name": "Python 3",
   "language": "python",
   "name": "python3"
  },
  "language_info": {
   "codemirror_mode": {
    "name": "ipython",
    "version": 3
   },
   "file_extension": ".py",
   "mimetype": "text/x-python",
   "name": "python",
   "nbconvert_exporter": "python",
   "pygments_lexer": "ipython3",
   "version": "3.6.1"
  }
 },
 "nbformat": 4,
 "nbformat_minor": 2
}
