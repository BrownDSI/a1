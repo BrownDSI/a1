{
 "cells": [
  {
   "cell_type": "markdown",
   "metadata": {},
   "source": [
    "### 1.3 Time Complexity\n",
    "Big O notation can help us better understand how well an algorithm or function will scale.\n",
    "\n",
    "The function below linear search has a Big O complexity of O(n) with respect the the number of elements in the list.\n",
    "\n",
    "```\n",
    "def linear_search(val, lst):\n",
    "\tfor i in range(len(lst)):\n",
    "\t\tif lst[i] == val:\n",
    "\t\t\treturn i\n",
    "\treturn -1\n",
    "```\n",
    "\n",
    "Below is a detailed explanation of why the above function runs in linear time.\n",
    "\n",
    "Let n be the number of elements in the list. In the worst case, the list will iterate from 0 to n - 1. At each iteration, the index i is assigned to the next item in the range object, the i-th element in lst is accessed, then that element is compared to val. All three of these actions take a constant amount of time to execute. Therefore, since these three instructions are executed a total of n times, linear_search is $O(n)$. See [Khan Academy](https://www.khanacademy.org/computing/computer-science/algorithms/asymptotic-notation/a/big-o-notation) for some other examples.\n",
    "\n",
    "__Task 4:__ Find the Big O complexity of your bubble sort implementation with respect to the number of elements in the input list. Explain your derivation with around the same amount of detail as the above example."
   ]
  },
  {
   "cell_type": "raw",
   "metadata": {},
   "source": [
    "# TASK 4 HERE\n",
    ""
   ]
  },
  {
   "cell_type": "markdown",
   "metadata": {},
   "source": [
    "__Task 5:__ Find the Big O complexity of your merge sort implementation with respect to the number of elements in the input list. Explain your derivation with around the same amount of detail as the above example."
   ]
  },
  {
   "cell_type": "raw",
   "metadata": {},
   "source": [
    "# TASK 5 HERE\n",
    ""
   ]
  },
  {
   "cell_type": "markdown",
   "metadata": {},
   "source": [
    "### 1.4 Benchmarking\n",
    "\n",
    "#### Story\n",
    "It’s 2040. You’re a data scientist at a company that sells 10 million fidget spinners a day. Because of how your data ingestion tool splits your fidget spinner transaction data into partitions to process it more quickly, not all of your data you receive is in order. Your robot boss Bubbles wants to use bubble sort to keep 10+ billion transactions in order. You want to persuade Bubbles to not use bubble sort. Because of your experience as a data scientist before the AI takeover, you believe that you can create a clear visualization like the one below to persuade Bubbles.\n",
    "\n",
    "<img src=\"https://cdn-images-1.medium.com/max/1600/1*MojRMNBNOHLqwe5ak7hTug.png\">\n",
    "\n",
    "__Task 6-8:__ Follow the 3 tasks below to create a line chart with pandas that compares the performance of bubble sort, merge sort, and Python’s built-in method `sorted`.\n",
    "\n",
    "We’ll be using pandas to create a multiple line chart like the one above. To do so, we need to figure out the specifications of the DataFrame `timing_df` that we will be using to create our chart. "
   ]
  },
  {
   "cell_type": "code",
   "execution_count": null,
   "metadata": {
    "collapsed": true
   },
   "outputs": [],
   "source": [
    "# NOTE: THIS CODE BLOCK WILL NOT RUN CORRECTLY\n",
    "import pandas as pd\n",
    "\n",
    "timing_df = create_timing_df() # You will create this function later on\n",
    "timing_df.plot(kind='line')"
   ]
  },
  {
   "cell_type": "markdown",
   "metadata": {},
   "source": [
    "When you call `.plot(kind='line')` on a DataFrame, `pandas`:\n",
    "\n",
    "* sets the x-axis to equal the index\n",
    "* sets the y-axis to equal the values, and\n",
    "* draws a line for every column.\n",
    "\n",
    "To create a multiple line chart of quadratic and cubic curves, we would do the following:"
   ]
  },
  {
   "cell_type": "code",
   "execution_count": null,
   "metadata": {
    "collapsed": true
   },
   "outputs": [],
   "source": [
    "%matplotlib inline\n",
    "import pandas as pd\n",
    "\n",
    "my_inputs = list(range(5))\n",
    "quadratic = [x * x for x in my_inputs]\n",
    "cubic = [x ** 3 for x in my_inputs] # Python allows you to raise to an exponent with the ** operator\n",
    "\n",
    "# print('My inputs:', my_inputs)\n",
    "# print('Quadratic:', quadratic)\n",
    "# print('Cubic:', cubic)\n",
    "\n",
    "df = pd.DataFrame(index=my_inputs) # Creates an empty DataFrame\n",
    "# print('OUR DATAFRAME:', df.head())\n",
    "df['q'] = quadratic # Adds the column with label 'q' to our DataFrame df\n",
    "df['c'] = cubic\n",
    "# print('UPDATED DF:', df.head())\n",
    "df.plot(kind='line')"
   ]
  },
  {
   "cell_type": "markdown",
   "metadata": {},
   "source": [
    "__Task 6:__ Provide specifications for what your `timing_df` will look like. Write down the following below:\n",
    "* the names of your `timing_df`'s columns\n",
    "* a description of `timing_df`'s index\n",
    "* a description of each of your columns\n",
    "* 3 examples of valid rows in `timing_df`\n",
    "\n",
    "If you are having trouble, refer to the example we plotted above."
   ]
  },
  {
   "cell_type": "raw",
   "metadata": {},
   "source": [
    "# TASK 6 HERE\n",
    ""
   ]
  },
  {
   "cell_type": "markdown",
   "metadata": {},
   "source": [
    "Now that you know what `timing_df` should look like, a DataFrame object with 3 specific columns, consider how to create such an object. The following abstract questions serve to help you understand the roadblocks in your way.\n",
    "\n",
    "\n",
    "__Task 7:__ With or without code, answer the 3 guiding questions below to better understand how to create `timing_df`. Each answer should be no more than four sentences long.\n",
    "1. Given a list and a sorting algorithm, how would you measure the duration it takes for the given sorting algorithm to sort that list?  \n",
    "2. How would you generate random list(s) of a certain length?\n",
    "3. Why is it necessary to test the sorting algorithms on multiple list lengths? Why can't you just compare sorting algorithms on lists of length 1000?"
   ]
  },
  {
   "cell_type": "raw",
   "metadata": {},
   "source": [
    "# TASK 7 HERE\n",
    ""
   ]
  },
  {
   "cell_type": "markdown",
   "metadata": {},
   "source": [
    "__Task 8:__ Design and implement your program that will allow you to graph the execution times of bubble sort, merge sort, and the built-in `sorted` function. This is demanding programming task! Your TAs are willing to help you out during TA hours."
   ]
  },
  {
   "cell_type": "code",
   "execution_count": null,
   "metadata": {
    "collapsed": true
   },
   "outputs": [],
   "source": [
    "# TASK 8 HERE\n",
    "import time\n",
    "\n",
    "import numpy as np\n",
    "import pandas as pd\n",
    "import matplotlib.pyplot as plt\n",
    "\n",
    "# The code you implemented has been imported for you here\n",
    "from algorithms.mergesort import merge_sort\n",
    "from algorithms.bubblesort import bubble_sort\n",
    "\n",
    "\n",
    "\n",
    "def create_timing_df():\n",
    "    \"\"\"Takes in a list of sorting functions and returns a dataframe of the times\n",
    "    \"\"\"\n",
    "    list_lens = [2**n for n in range(12)]\n",
    "    df = pd.DataFrame(index=list_lens)\n",
    "    \n",
    "    \n",
    "timing_df = create_timing_df()\n",
    "timing_df.plot(kind='line')"
   ]
  },
  {
   "cell_type": "markdown",
   "metadata": {},
   "source": [
    "_Note:_ Your plot should take less than thirty seconds to generate for grading purposes. The x-axis of your graph should go up to least 1000. Don't calculate the times for every list length from 0 to 1000!\n",
    "\n",
    "For this task, you will be graded on your final visualization, which should satisfy the following specifications\n",
    "\n",
    "- 3 curves displayed on the same chart, 1 for each sorting algorithm\n",
    "- a relevant title for the plot\n",
    "- a legend containing the names of each sorting algorithm"
   ]
  }
 ],
 "metadata": {
  "kernelspec": {
   "display_name": "Python 3",
   "language": "python",
   "name": "python3"
  },
  "language_info": {
   "codemirror_mode": {
    "name": "ipython",
    "version": 3
   },
   "file_extension": ".py",
   "mimetype": "text/x-python",
   "name": "python",
   "nbconvert_exporter": "python",
   "pygments_lexer": "ipython3",
   "version": "3.6.1"
  }
 },
 "nbformat": 4,
 "nbformat_minor": 2
}
